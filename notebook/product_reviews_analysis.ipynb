{
  "nbformat": 4,
  "nbformat_minor": 0,
  "metadata": {
    "colab": {
      "provenance": [],
      "authorship_tag": "ABX9TyN6bJrZuydvpUp5RNTN56Jr",
      "include_colab_link": true
    },
    "kernelspec": {
      "name": "python3",
      "display_name": "Python 3"
    },
    "language_info": {
      "name": "python"
    }
  },
  "cells": [
    {
      "cell_type": "markdown",
      "metadata": {
        "id": "view-in-github",
        "colab_type": "text"
      },
      "source": [
        "<a href=\"https://colab.research.google.com/github/IrmaM00/product-category-prediction/blob/main/notebook/product_reviews_analysis.ipynb\" target=\"_parent\"><img src=\"https://colab.research.google.com/assets/colab-badge.svg\" alt=\"Open In Colab\"/></a>"
      ]
    },
    {
      "cell_type": "markdown",
      "source": [
        "Uvoz biblioteka"
      ],
      "metadata": {
        "id": "ZThqaTug_ma0"
      }
    },
    {
      "cell_type": "code",
      "source": [
        "import pandas as pd\n",
        "from sklearn.model_selection import train_test_split\n",
        "from sklearn.feature_extraction.text import TfidfVectorizer\n",
        "from sklearn.linear_model import LogisticRegression\n",
        "from sklearn.naive_bayes import MultinomialNB\n",
        "from sklearn.tree import DecisionTreeClassifier\n",
        "from sklearn.ensemble import RandomForestClassifier\n",
        "from sklearn.svm import LinearSVC\n",
        "from sklearn.metrics import classification_report"
      ],
      "metadata": {
        "id": "NNk5aDrw_oMU"
      },
      "execution_count": 5,
      "outputs": []
    },
    {
      "cell_type": "markdown",
      "source": [
        "Uvoz i prikazivanje podataka"
      ],
      "metadata": {
        "id": "EvoijtZP_qhQ"
      }
    },
    {
      "cell_type": "code",
      "source": [
        "url = \"https://raw.githubusercontent.com/IrmaM00/product-category-prediction/main/data/products.csv\"\n",
        "df = pd.read_csv(url)\n",
        "print(\"Dataset shape (rows, columns):\", df.shape)"
      ],
      "metadata": {
        "colab": {
          "base_uri": "https://localhost:8080/"
        },
        "id": "iX1MQDYO_t3j",
        "outputId": "7b6016e2-28e3-46e6-e915-f92999a11e5e"
      },
      "execution_count": 7,
      "outputs": [
        {
          "output_type": "stream",
          "name": "stdout",
          "text": [
            "Dataset shape (rows, columns): (35311, 8)\n"
          ]
        }
      ]
    },
    {
      "cell_type": "markdown",
      "source": [
        "Izbacivanje nepostojecih vrednosti i nepotrebnih kolona"
      ],
      "metadata": {
        "id": "S8253rC4_9fO"
      }
    },
    {
      "cell_type": "code",
      "source": [
        "df = df.dropna()\n",
        "print(\"Dataset shape after dropping NA:\", df.shape)"
      ],
      "metadata": {
        "colab": {
          "base_uri": "https://localhost:8080/"
        },
        "id": "qv9zLvG0_-R1",
        "outputId": "0375f5f7-5064-4b2c-88d6-7ff239f67d6d"
      },
      "execution_count": 8,
      "outputs": [
        {
          "output_type": "stream",
          "name": "stdout",
          "text": [
            "Dataset shape after dropping NA: (34760, 8)\n"
          ]
        }
      ]
    },
    {
      "cell_type": "code",
      "source": [
        "df = df.drop(columns=['product ID', 'Merchant ID', '_Product Code', 'Number_of_Views', 'Merchant Rating', ' Listing Date  '])\n",
        "df.head()"
      ],
      "metadata": {
        "colab": {
          "base_uri": "https://localhost:8080/",
          "height": 206
        },
        "id": "vI1CCBJVAEpF",
        "outputId": "a5a7727a-8681-4138-f275-6dee8ae4b382"
      },
      "execution_count": 9,
      "outputs": [
        {
          "output_type": "execute_result",
          "data": {
            "text/plain": [
              "                                       Product Title  Category Label\n",
              "0                    apple iphone 8 plus 64gb silver   Mobile Phones\n",
              "1                apple iphone 8 plus 64 gb spacegrau   Mobile Phones\n",
              "2  apple mq8n2b/a iphone 8 plus 64gb 5.5 12mp sim...   Mobile Phones\n",
              "3                apple iphone 8 plus 64gb space grey   Mobile Phones\n",
              "4  apple iphone 8 plus gold 5.5 64gb 4g unlocked ...   Mobile Phones"
            ],
            "text/html": [
              "\n",
              "  <div id=\"df-ed84ec4b-985d-49a9-a5b3-99ffe79f5cbe\" class=\"colab-df-container\">\n",
              "    <div>\n",
              "<style scoped>\n",
              "    .dataframe tbody tr th:only-of-type {\n",
              "        vertical-align: middle;\n",
              "    }\n",
              "\n",
              "    .dataframe tbody tr th {\n",
              "        vertical-align: top;\n",
              "    }\n",
              "\n",
              "    .dataframe thead th {\n",
              "        text-align: right;\n",
              "    }\n",
              "</style>\n",
              "<table border=\"1\" class=\"dataframe\">\n",
              "  <thead>\n",
              "    <tr style=\"text-align: right;\">\n",
              "      <th></th>\n",
              "      <th>Product Title</th>\n",
              "      <th>Category Label</th>\n",
              "    </tr>\n",
              "  </thead>\n",
              "  <tbody>\n",
              "    <tr>\n",
              "      <th>0</th>\n",
              "      <td>apple iphone 8 plus 64gb silver</td>\n",
              "      <td>Mobile Phones</td>\n",
              "    </tr>\n",
              "    <tr>\n",
              "      <th>1</th>\n",
              "      <td>apple iphone 8 plus 64 gb spacegrau</td>\n",
              "      <td>Mobile Phones</td>\n",
              "    </tr>\n",
              "    <tr>\n",
              "      <th>2</th>\n",
              "      <td>apple mq8n2b/a iphone 8 plus 64gb 5.5 12mp sim...</td>\n",
              "      <td>Mobile Phones</td>\n",
              "    </tr>\n",
              "    <tr>\n",
              "      <th>3</th>\n",
              "      <td>apple iphone 8 plus 64gb space grey</td>\n",
              "      <td>Mobile Phones</td>\n",
              "    </tr>\n",
              "    <tr>\n",
              "      <th>4</th>\n",
              "      <td>apple iphone 8 plus gold 5.5 64gb 4g unlocked ...</td>\n",
              "      <td>Mobile Phones</td>\n",
              "    </tr>\n",
              "  </tbody>\n",
              "</table>\n",
              "</div>\n",
              "    <div class=\"colab-df-buttons\">\n",
              "\n",
              "  <div class=\"colab-df-container\">\n",
              "    <button class=\"colab-df-convert\" onclick=\"convertToInteractive('df-ed84ec4b-985d-49a9-a5b3-99ffe79f5cbe')\"\n",
              "            title=\"Convert this dataframe to an interactive table.\"\n",
              "            style=\"display:none;\">\n",
              "\n",
              "  <svg xmlns=\"http://www.w3.org/2000/svg\" height=\"24px\" viewBox=\"0 -960 960 960\">\n",
              "    <path d=\"M120-120v-720h720v720H120Zm60-500h600v-160H180v160Zm220 220h160v-160H400v160Zm0 220h160v-160H400v160ZM180-400h160v-160H180v160Zm440 0h160v-160H620v160ZM180-180h160v-160H180v160Zm440 0h160v-160H620v160Z\"/>\n",
              "  </svg>\n",
              "    </button>\n",
              "\n",
              "  <style>\n",
              "    .colab-df-container {\n",
              "      display:flex;\n",
              "      gap: 12px;\n",
              "    }\n",
              "\n",
              "    .colab-df-convert {\n",
              "      background-color: #E8F0FE;\n",
              "      border: none;\n",
              "      border-radius: 50%;\n",
              "      cursor: pointer;\n",
              "      display: none;\n",
              "      fill: #1967D2;\n",
              "      height: 32px;\n",
              "      padding: 0 0 0 0;\n",
              "      width: 32px;\n",
              "    }\n",
              "\n",
              "    .colab-df-convert:hover {\n",
              "      background-color: #E2EBFA;\n",
              "      box-shadow: 0px 1px 2px rgba(60, 64, 67, 0.3), 0px 1px 3px 1px rgba(60, 64, 67, 0.15);\n",
              "      fill: #174EA6;\n",
              "    }\n",
              "\n",
              "    .colab-df-buttons div {\n",
              "      margin-bottom: 4px;\n",
              "    }\n",
              "\n",
              "    [theme=dark] .colab-df-convert {\n",
              "      background-color: #3B4455;\n",
              "      fill: #D2E3FC;\n",
              "    }\n",
              "\n",
              "    [theme=dark] .colab-df-convert:hover {\n",
              "      background-color: #434B5C;\n",
              "      box-shadow: 0px 1px 3px 1px rgba(0, 0, 0, 0.15);\n",
              "      filter: drop-shadow(0px 1px 2px rgba(0, 0, 0, 0.3));\n",
              "      fill: #FFFFFF;\n",
              "    }\n",
              "  </style>\n",
              "\n",
              "    <script>\n",
              "      const buttonEl =\n",
              "        document.querySelector('#df-ed84ec4b-985d-49a9-a5b3-99ffe79f5cbe button.colab-df-convert');\n",
              "      buttonEl.style.display =\n",
              "        google.colab.kernel.accessAllowed ? 'block' : 'none';\n",
              "\n",
              "      async function convertToInteractive(key) {\n",
              "        const element = document.querySelector('#df-ed84ec4b-985d-49a9-a5b3-99ffe79f5cbe');\n",
              "        const dataTable =\n",
              "          await google.colab.kernel.invokeFunction('convertToInteractive',\n",
              "                                                    [key], {});\n",
              "        if (!dataTable) return;\n",
              "\n",
              "        const docLinkHtml = 'Like what you see? Visit the ' +\n",
              "          '<a target=\"_blank\" href=https://colab.research.google.com/notebooks/data_table.ipynb>data table notebook</a>'\n",
              "          + ' to learn more about interactive tables.';\n",
              "        element.innerHTML = '';\n",
              "        dataTable['output_type'] = 'display_data';\n",
              "        await google.colab.output.renderOutput(dataTable, element);\n",
              "        const docLink = document.createElement('div');\n",
              "        docLink.innerHTML = docLinkHtml;\n",
              "        element.appendChild(docLink);\n",
              "      }\n",
              "    </script>\n",
              "  </div>\n",
              "\n",
              "\n",
              "    <div id=\"df-0035126a-a8fb-414a-93b8-516df9640050\">\n",
              "      <button class=\"colab-df-quickchart\" onclick=\"quickchart('df-0035126a-a8fb-414a-93b8-516df9640050')\"\n",
              "                title=\"Suggest charts\"\n",
              "                style=\"display:none;\">\n",
              "\n",
              "<svg xmlns=\"http://www.w3.org/2000/svg\" height=\"24px\"viewBox=\"0 0 24 24\"\n",
              "     width=\"24px\">\n",
              "    <g>\n",
              "        <path d=\"M19 3H5c-1.1 0-2 .9-2 2v14c0 1.1.9 2 2 2h14c1.1 0 2-.9 2-2V5c0-1.1-.9-2-2-2zM9 17H7v-7h2v7zm4 0h-2V7h2v10zm4 0h-2v-4h2v4z\"/>\n",
              "    </g>\n",
              "</svg>\n",
              "      </button>\n",
              "\n",
              "<style>\n",
              "  .colab-df-quickchart {\n",
              "      --bg-color: #E8F0FE;\n",
              "      --fill-color: #1967D2;\n",
              "      --hover-bg-color: #E2EBFA;\n",
              "      --hover-fill-color: #174EA6;\n",
              "      --disabled-fill-color: #AAA;\n",
              "      --disabled-bg-color: #DDD;\n",
              "  }\n",
              "\n",
              "  [theme=dark] .colab-df-quickchart {\n",
              "      --bg-color: #3B4455;\n",
              "      --fill-color: #D2E3FC;\n",
              "      --hover-bg-color: #434B5C;\n",
              "      --hover-fill-color: #FFFFFF;\n",
              "      --disabled-bg-color: #3B4455;\n",
              "      --disabled-fill-color: #666;\n",
              "  }\n",
              "\n",
              "  .colab-df-quickchart {\n",
              "    background-color: var(--bg-color);\n",
              "    border: none;\n",
              "    border-radius: 50%;\n",
              "    cursor: pointer;\n",
              "    display: none;\n",
              "    fill: var(--fill-color);\n",
              "    height: 32px;\n",
              "    padding: 0;\n",
              "    width: 32px;\n",
              "  }\n",
              "\n",
              "  .colab-df-quickchart:hover {\n",
              "    background-color: var(--hover-bg-color);\n",
              "    box-shadow: 0 1px 2px rgba(60, 64, 67, 0.3), 0 1px 3px 1px rgba(60, 64, 67, 0.15);\n",
              "    fill: var(--button-hover-fill-color);\n",
              "  }\n",
              "\n",
              "  .colab-df-quickchart-complete:disabled,\n",
              "  .colab-df-quickchart-complete:disabled:hover {\n",
              "    background-color: var(--disabled-bg-color);\n",
              "    fill: var(--disabled-fill-color);\n",
              "    box-shadow: none;\n",
              "  }\n",
              "\n",
              "  .colab-df-spinner {\n",
              "    border: 2px solid var(--fill-color);\n",
              "    border-color: transparent;\n",
              "    border-bottom-color: var(--fill-color);\n",
              "    animation:\n",
              "      spin 1s steps(1) infinite;\n",
              "  }\n",
              "\n",
              "  @keyframes spin {\n",
              "    0% {\n",
              "      border-color: transparent;\n",
              "      border-bottom-color: var(--fill-color);\n",
              "      border-left-color: var(--fill-color);\n",
              "    }\n",
              "    20% {\n",
              "      border-color: transparent;\n",
              "      border-left-color: var(--fill-color);\n",
              "      border-top-color: var(--fill-color);\n",
              "    }\n",
              "    30% {\n",
              "      border-color: transparent;\n",
              "      border-left-color: var(--fill-color);\n",
              "      border-top-color: var(--fill-color);\n",
              "      border-right-color: var(--fill-color);\n",
              "    }\n",
              "    40% {\n",
              "      border-color: transparent;\n",
              "      border-right-color: var(--fill-color);\n",
              "      border-top-color: var(--fill-color);\n",
              "    }\n",
              "    60% {\n",
              "      border-color: transparent;\n",
              "      border-right-color: var(--fill-color);\n",
              "    }\n",
              "    80% {\n",
              "      border-color: transparent;\n",
              "      border-right-color: var(--fill-color);\n",
              "      border-bottom-color: var(--fill-color);\n",
              "    }\n",
              "    90% {\n",
              "      border-color: transparent;\n",
              "      border-bottom-color: var(--fill-color);\n",
              "    }\n",
              "  }\n",
              "</style>\n",
              "\n",
              "      <script>\n",
              "        async function quickchart(key) {\n",
              "          const quickchartButtonEl =\n",
              "            document.querySelector('#' + key + ' button');\n",
              "          quickchartButtonEl.disabled = true;  // To prevent multiple clicks.\n",
              "          quickchartButtonEl.classList.add('colab-df-spinner');\n",
              "          try {\n",
              "            const charts = await google.colab.kernel.invokeFunction(\n",
              "                'suggestCharts', [key], {});\n",
              "          } catch (error) {\n",
              "            console.error('Error during call to suggestCharts:', error);\n",
              "          }\n",
              "          quickchartButtonEl.classList.remove('colab-df-spinner');\n",
              "          quickchartButtonEl.classList.add('colab-df-quickchart-complete');\n",
              "        }\n",
              "        (() => {\n",
              "          let quickchartButtonEl =\n",
              "            document.querySelector('#df-0035126a-a8fb-414a-93b8-516df9640050 button');\n",
              "          quickchartButtonEl.style.display =\n",
              "            google.colab.kernel.accessAllowed ? 'block' : 'none';\n",
              "        })();\n",
              "      </script>\n",
              "    </div>\n",
              "\n",
              "    </div>\n",
              "  </div>\n"
            ],
            "application/vnd.google.colaboratory.intrinsic+json": {
              "type": "dataframe",
              "variable_name": "df",
              "summary": "{\n  \"name\": \"df\",\n  \"rows\": 34760,\n  \"fields\": [\n    {\n      \"column\": \"Product Title\",\n      \"properties\": {\n        \"dtype\": \"string\",\n        \"num_unique_values\": 30552,\n        \"samples\": [\n          \"amica fk321 3dfx fridge freezer 60cm a energy rating inox\",\n          \"gorenje gv61010\",\n          \"hotpoint rsaav22p.1 under counter fridge in white\"\n        ],\n        \"semantic_type\": \"\",\n        \"description\": \"\"\n      }\n    },\n    {\n      \"column\": \" Category Label\",\n      \"properties\": {\n        \"dtype\": \"category\",\n        \"num_unique_values\": 13,\n        \"samples\": [\n          \"Fridges\",\n          \"Freezers\",\n          \"Mobile Phones\"\n        ],\n        \"semantic_type\": \"\",\n        \"description\": \"\"\n      }\n    }\n  ]\n}"
            }
          },
          "metadata": {},
          "execution_count": 9
        }
      ]
    },
    {
      "cell_type": "markdown",
      "source": [
        "Standardizacija - Spajanje kolona slicnih imena"
      ],
      "metadata": {
        "id": "cqMheifIAIlF"
      }
    },
    {
      "cell_type": "code",
      "source": [
        "df.columns = df.columns.str.strip().str.lower().str.replace(\" \", \"_\")"
      ],
      "metadata": {
        "id": "XqdbP9h4AJUA"
      },
      "execution_count": 10,
      "outputs": []
    },
    {
      "cell_type": "code",
      "source": [
        "# print(df[\"category_label\"].value_counts())\n",
        "mapping = {\n",
        "    \"Fridges\": \"Fridge Freezers\",\n",
        "    \"fridge\": \"Fridge Freezers\",\n",
        "    \"Freezers\": \"Fridge Freezers\",\n",
        "    \"Mobile Phone\": \"Mobile Phones\",\n",
        "    \"CPU\": \"CPUs\"\n",
        "}\n",
        "\n",
        "df[\"category_label\"] = df[\"category_label\"].astype(object).replace(mapping).astype(\"category\")"
      ],
      "metadata": {
        "id": "jaru08XKAOYs"
      },
      "execution_count": 11,
      "outputs": []
    },
    {
      "cell_type": "markdown",
      "source": [
        "Priprema podataka radi ML-a"
      ],
      "metadata": {
        "id": "4xlAS4d3AUhh"
      }
    },
    {
      "cell_type": "code",
      "source": [
        "X = df[\"product_title\"]\n",
        "y = df[\"category_label\"]"
      ],
      "metadata": {
        "id": "-96_prQaAXJD"
      },
      "execution_count": 12,
      "outputs": []
    },
    {
      "cell_type": "code",
      "source": [
        "X_train, X_test, y_train, y_test = train_test_split(\n",
        "    X, y, test_size=0.2, random_state=42, stratify=y\n",
        ")"
      ],
      "metadata": {
        "id": "e0VuxsKmAb8P"
      },
      "execution_count": 13,
      "outputs": []
    },
    {
      "cell_type": "markdown",
      "source": [
        "Vektorizacija i modeli"
      ],
      "metadata": {
        "id": "ASBHp_cyAe_G"
      }
    },
    {
      "cell_type": "code",
      "source": [
        "vectorizer = TfidfVectorizer()\n",
        "X_train_vec = vectorizer.fit_transform(X_train)\n",
        "X_test_vec = vectorizer.transform(X_test)"
      ],
      "metadata": {
        "id": "sOx0J-fwAhZ1"
      },
      "execution_count": 14,
      "outputs": []
    },
    {
      "cell_type": "code",
      "source": [
        "models = {\n",
        "    \"Logistic Regression\": LogisticRegression(max_iter=1000),\n",
        "    \"Naive Bayes\": MultinomialNB(),\n",
        "    \"Decision Tree\": DecisionTreeClassifier(),\n",
        "    \"Random Forest\": RandomForestClassifier(),\n",
        "    \"Support Vector Machine\": LinearSVC()\n",
        "}"
      ],
      "metadata": {
        "id": "JuIEyZVtBJN_"
      },
      "execution_count": 15,
      "outputs": []
    },
    {
      "cell_type": "markdown",
      "source": [
        "Provera modela"
      ],
      "metadata": {
        "id": "Tmrp7ZXGBNRV"
      }
    },
    {
      "cell_type": "code",
      "source": [
        "for name, model in models.items():\n",
        "    model.fit(X_train_vec, y_train)\n",
        "    y_pred = model.predict(X_test_vec)\n",
        "    print(f\"\\n{name} - Classification Report:\")\n",
        "    print(classification_report(y_test, y_pred))\n",
        "\n",
        "# Support Vector Machine i Naive Bayes daju najbolje rezultate"
      ],
      "metadata": {
        "colab": {
          "base_uri": "https://localhost:8080/"
        },
        "id": "Q923DFraBPIC",
        "outputId": "a3135c60-ad9c-4b72-d667-1928810acfde"
      },
      "execution_count": 16,
      "outputs": [
        {
          "output_type": "stream",
          "name": "stdout",
          "text": [
            "\n",
            "Logistic Regression - Classification Report:\n",
            "                  precision    recall  f1-score   support\n",
            "\n",
            "            CPUs       1.00      1.00      1.00       759\n",
            " Digital Cameras       1.00      0.99      1.00       532\n",
            "     Dishwashers       0.97      0.92      0.95       675\n",
            " Fridge Freezers       0.94      0.99      0.96      2226\n",
            "      Microwaves       1.00      0.94      0.97       461\n",
            "   Mobile Phones       0.99      0.99      0.99       805\n",
            "             TVs       0.99      0.97      0.98       700\n",
            "Washing Machines       0.99      0.92      0.96       794\n",
            "\n",
            "        accuracy                           0.97      6952\n",
            "       macro avg       0.98      0.97      0.97      6952\n",
            "    weighted avg       0.97      0.97      0.97      6952\n",
            "\n",
            "\n",
            "Naive Bayes - Classification Report:\n",
            "                  precision    recall  f1-score   support\n",
            "\n",
            "            CPUs       1.00      1.00      1.00       759\n",
            " Digital Cameras       1.00      1.00      1.00       532\n",
            "     Dishwashers       0.99      0.90      0.95       675\n",
            " Fridge Freezers       0.94      1.00      0.97      2226\n",
            "      Microwaves       1.00      0.94      0.97       461\n",
            "   Mobile Phones       1.00      0.98      0.99       805\n",
            "             TVs       0.99      0.99      0.99       700\n",
            "Washing Machines       1.00      0.95      0.97       794\n",
            "\n",
            "        accuracy                           0.98      6952\n",
            "       macro avg       0.99      0.97      0.98      6952\n",
            "    weighted avg       0.98      0.98      0.98      6952\n",
            "\n",
            "\n",
            "Decision Tree - Classification Report:\n",
            "                  precision    recall  f1-score   support\n",
            "\n",
            "            CPUs       1.00      1.00      1.00       759\n",
            " Digital Cameras       0.99      0.96      0.97       532\n",
            "     Dishwashers       0.95      0.92      0.93       675\n",
            " Fridge Freezers       0.96      0.97      0.96      2226\n",
            "      Microwaves       0.96      0.93      0.95       461\n",
            "   Mobile Phones       0.94      0.99      0.96       805\n",
            "             TVs       0.98      0.97      0.97       700\n",
            "Washing Machines       0.94      0.93      0.93       794\n",
            "\n",
            "        accuracy                           0.96      6952\n",
            "       macro avg       0.96      0.96      0.96      6952\n",
            "    weighted avg       0.96      0.96      0.96      6952\n",
            "\n",
            "\n",
            "Random Forest - Classification Report:\n",
            "                  precision    recall  f1-score   support\n",
            "\n",
            "            CPUs       1.00      1.00      1.00       759\n",
            " Digital Cameras       1.00      0.98      0.99       532\n",
            "     Dishwashers       0.99      0.92      0.95       675\n",
            " Fridge Freezers       0.95      0.99      0.97      2226\n",
            "      Microwaves       0.98      0.96      0.97       461\n",
            "   Mobile Phones       0.98      0.99      0.98       805\n",
            "             TVs       0.99      0.98      0.98       700\n",
            "Washing Machines       0.98      0.94      0.96       794\n",
            "\n",
            "        accuracy                           0.97      6952\n",
            "       macro avg       0.98      0.97      0.98      6952\n",
            "    weighted avg       0.98      0.97      0.97      6952\n",
            "\n",
            "\n",
            "Support Vector Machine - Classification Report:\n",
            "                  precision    recall  f1-score   support\n",
            "\n",
            "            CPUs       1.00      1.00      1.00       759\n",
            " Digital Cameras       1.00      1.00      1.00       532\n",
            "     Dishwashers       0.97      0.93      0.95       675\n",
            " Fridge Freezers       0.95      0.99      0.97      2226\n",
            "      Microwaves       0.99      0.96      0.98       461\n",
            "   Mobile Phones       1.00      0.99      0.99       805\n",
            "             TVs       0.99      0.98      0.99       700\n",
            "Washing Machines       0.99      0.94      0.96       794\n",
            "\n",
            "        accuracy                           0.98      6952\n",
            "       macro avg       0.99      0.97      0.98      6952\n",
            "    weighted avg       0.98      0.98      0.98      6952\n",
            "\n"
          ]
        }
      ]
    }
  ]
}